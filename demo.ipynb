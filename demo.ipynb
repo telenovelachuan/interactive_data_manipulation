{
 "cells": [
  {
   "cell_type": "code",
   "execution_count": 1,
   "metadata": {},
   "outputs": [],
   "source": [
    "import pandas as pd"
   ]
  },
  {
   "cell_type": "code",
   "execution_count": 47,
   "metadata": {},
   "outputs": [
    {
     "data": {
      "text/html": [
       "<div>\n",
       "<style scoped>\n",
       "    .dataframe tbody tr th:only-of-type {\n",
       "        vertical-align: middle;\n",
       "    }\n",
       "\n",
       "    .dataframe tbody tr th {\n",
       "        vertical-align: top;\n",
       "    }\n",
       "\n",
       "    .dataframe thead th {\n",
       "        text-align: right;\n",
       "    }\n",
       "</style>\n",
       "<table border=\"1\" class=\"dataframe\">\n",
       "  <thead>\n",
       "    <tr style=\"text-align: right;\">\n",
       "      <th></th>\n",
       "      <th>Port Name</th>\n",
       "      <th>State</th>\n",
       "      <th>Port Code</th>\n",
       "      <th>Border</th>\n",
       "      <th>Date</th>\n",
       "      <th>Measure</th>\n",
       "      <th>Value</th>\n",
       "      <th>Location</th>\n",
       "    </tr>\n",
       "  </thead>\n",
       "  <tbody>\n",
       "    <tr>\n",
       "      <th>0</th>\n",
       "      <td>Calexico East</td>\n",
       "      <td>California</td>\n",
       "      <td>2507</td>\n",
       "      <td>US-Mexico Border</td>\n",
       "      <td>03/01/2019 12:00:00 AM</td>\n",
       "      <td>Trucks</td>\n",
       "      <td>34447</td>\n",
       "      <td>POINT (-115.48433000000001 32.67524)</td>\n",
       "    </tr>\n",
       "    <tr>\n",
       "      <th>1</th>\n",
       "      <td>Van Buren</td>\n",
       "      <td>Maine</td>\n",
       "      <td>108</td>\n",
       "      <td>US-Canada Border</td>\n",
       "      <td>03/01/2019 12:00:00 AM</td>\n",
       "      <td>Rail Containers Full</td>\n",
       "      <td>428</td>\n",
       "      <td>POINT (-67.94271 47.16207)</td>\n",
       "    </tr>\n",
       "    <tr>\n",
       "      <th>2</th>\n",
       "      <td>Otay Mesa</td>\n",
       "      <td>California</td>\n",
       "      <td>2506</td>\n",
       "      <td>US-Mexico Border</td>\n",
       "      <td>03/01/2019 12:00:00 AM</td>\n",
       "      <td>Trucks</td>\n",
       "      <td>81217</td>\n",
       "      <td>POINT (-117.05333 32.57333)</td>\n",
       "    </tr>\n",
       "    <tr>\n",
       "      <th>3</th>\n",
       "      <td>Nogales</td>\n",
       "      <td>Arizona</td>\n",
       "      <td>2604</td>\n",
       "      <td>US-Mexico Border</td>\n",
       "      <td>03/01/2019 12:00:00 AM</td>\n",
       "      <td>Trains</td>\n",
       "      <td>62</td>\n",
       "      <td>POINT (-110.93361 31.340279999999996)</td>\n",
       "    </tr>\n",
       "    <tr>\n",
       "      <th>4</th>\n",
       "      <td>Trout River</td>\n",
       "      <td>New York</td>\n",
       "      <td>715</td>\n",
       "      <td>US-Canada Border</td>\n",
       "      <td>03/01/2019 12:00:00 AM</td>\n",
       "      <td>Personal Vehicle Passengers</td>\n",
       "      <td>16377</td>\n",
       "      <td>POINT (-73.44253 44.990010000000005)</td>\n",
       "    </tr>\n",
       "    <tr>\n",
       "      <th>...</th>\n",
       "      <td>...</td>\n",
       "      <td>...</td>\n",
       "      <td>...</td>\n",
       "      <td>...</td>\n",
       "      <td>...</td>\n",
       "      <td>...</td>\n",
       "      <td>...</td>\n",
       "      <td>...</td>\n",
       "    </tr>\n",
       "    <tr>\n",
       "      <th>346728</th>\n",
       "      <td>Norton</td>\n",
       "      <td>Vermont</td>\n",
       "      <td>211</td>\n",
       "      <td>US-Canada Border</td>\n",
       "      <td>01/01/1996 12:00:00 AM</td>\n",
       "      <td>Personal Vehicle Passengers</td>\n",
       "      <td>9119</td>\n",
       "      <td>POINT (-71.79 45.01)</td>\n",
       "    </tr>\n",
       "    <tr>\n",
       "      <th>346729</th>\n",
       "      <td>Columbus</td>\n",
       "      <td>New Mexico</td>\n",
       "      <td>2406</td>\n",
       "      <td>US-Mexico Border</td>\n",
       "      <td>01/01/1996 12:00:00 AM</td>\n",
       "      <td>Personal Vehicles</td>\n",
       "      <td>29486</td>\n",
       "      <td>POINT (-107.63 31.78)</td>\n",
       "    </tr>\n",
       "    <tr>\n",
       "      <th>346730</th>\n",
       "      <td>Hansboro</td>\n",
       "      <td>North Dakota</td>\n",
       "      <td>3415</td>\n",
       "      <td>US-Canada Border</td>\n",
       "      <td>01/01/1996 12:00:00 AM</td>\n",
       "      <td>Rail Containers Full</td>\n",
       "      <td>0</td>\n",
       "      <td>POINT (-99.35 49)</td>\n",
       "    </tr>\n",
       "    <tr>\n",
       "      <th>346731</th>\n",
       "      <td>Calexico East</td>\n",
       "      <td>California</td>\n",
       "      <td>2507</td>\n",
       "      <td>US-Mexico Border</td>\n",
       "      <td>01/01/1996 12:00:00 AM</td>\n",
       "      <td>Buses</td>\n",
       "      <td>0</td>\n",
       "      <td>POINT (-115.39 32.67)</td>\n",
       "    </tr>\n",
       "    <tr>\n",
       "      <th>346732</th>\n",
       "      <td>Presidio</td>\n",
       "      <td>Texas</td>\n",
       "      <td>2403</td>\n",
       "      <td>US-Mexico Border</td>\n",
       "      <td>01/01/1996 12:00:00 AM</td>\n",
       "      <td>Trucks</td>\n",
       "      <td>347</td>\n",
       "      <td>POINT (-104.39000000000001 29.56)</td>\n",
       "    </tr>\n",
       "  </tbody>\n",
       "</table>\n",
       "<p>346733 rows × 8 columns</p>\n",
       "</div>"
      ],
      "text/plain": [
       "            Port Name         State  Port Code            Border  \\\n",
       "0       Calexico East    California       2507  US-Mexico Border   \n",
       "1           Van Buren         Maine        108  US-Canada Border   \n",
       "2           Otay Mesa    California       2506  US-Mexico Border   \n",
       "3             Nogales       Arizona       2604  US-Mexico Border   \n",
       "4         Trout River      New York        715  US-Canada Border   \n",
       "...               ...           ...        ...               ...   \n",
       "346728         Norton       Vermont        211  US-Canada Border   \n",
       "346729       Columbus    New Mexico       2406  US-Mexico Border   \n",
       "346730       Hansboro  North Dakota       3415  US-Canada Border   \n",
       "346731  Calexico East    California       2507  US-Mexico Border   \n",
       "346732       Presidio         Texas       2403  US-Mexico Border   \n",
       "\n",
       "                          Date                      Measure  Value  \\\n",
       "0       03/01/2019 12:00:00 AM                       Trucks  34447   \n",
       "1       03/01/2019 12:00:00 AM         Rail Containers Full    428   \n",
       "2       03/01/2019 12:00:00 AM                       Trucks  81217   \n",
       "3       03/01/2019 12:00:00 AM                       Trains     62   \n",
       "4       03/01/2019 12:00:00 AM  Personal Vehicle Passengers  16377   \n",
       "...                        ...                          ...    ...   \n",
       "346728  01/01/1996 12:00:00 AM  Personal Vehicle Passengers   9119   \n",
       "346729  01/01/1996 12:00:00 AM            Personal Vehicles  29486   \n",
       "346730  01/01/1996 12:00:00 AM         Rail Containers Full      0   \n",
       "346731  01/01/1996 12:00:00 AM                        Buses      0   \n",
       "346732  01/01/1996 12:00:00 AM                       Trucks    347   \n",
       "\n",
       "                                     Location  \n",
       "0        POINT (-115.48433000000001 32.67524)  \n",
       "1                  POINT (-67.94271 47.16207)  \n",
       "2                 POINT (-117.05333 32.57333)  \n",
       "3       POINT (-110.93361 31.340279999999996)  \n",
       "4        POINT (-73.44253 44.990010000000005)  \n",
       "...                                       ...  \n",
       "346728                   POINT (-71.79 45.01)  \n",
       "346729                  POINT (-107.63 31.78)  \n",
       "346730                      POINT (-99.35 49)  \n",
       "346731                  POINT (-115.39 32.67)  \n",
       "346732      POINT (-104.39000000000001 29.56)  \n",
       "\n",
       "[346733 rows x 8 columns]"
      ]
     },
     "execution_count": 47,
     "metadata": {},
     "output_type": "execute_result"
    }
   ],
   "source": [
    "df = pd.read_csv(\"test.csv\")\n",
    "df[\"Date\"] = pd.to_datetime(df[\"Date\"])\n",
    "df"
   ]
  },
  {
   "cell_type": "code",
   "execution_count": 64,
   "metadata": {},
   "outputs": [
    {
     "data": {
      "text/plain": [
       "True"
      ]
     },
     "execution_count": 64,
     "metadata": {},
     "output_type": "execute_result"
    }
   ],
   "source": [
    "np.issubdtype(df.dtypes[\"Date\"], np.datetime64)"
   ]
  },
  {
   "cell_type": "code",
   "execution_count": 63,
   "metadata": {},
   "outputs": [
    {
     "data": {
      "text/plain": [
       "True"
      ]
     },
     "execution_count": 63,
     "metadata": {},
     "output_type": "execute_result"
    }
   ],
   "source": [
    "import numpy as np\n",
    "df.dtypes[\"Date\"] == np.dtype('<M8[ns]')"
   ]
  },
  {
   "cell_type": "code",
   "execution_count": 208,
   "metadata": {},
   "outputs": [
    {
     "name": "stdout",
     "output_type": "stream",
     "text": [
      "<function _render_summary at 0x14a5ab620>\n"
     ]
    },
    {
     "data": {
      "application/vnd.jupyter.widget-view+json": {
       "model_id": "c7701930d56f4c088662fdbae71a24f2",
       "version_major": 2,
       "version_minor": 0
      },
      "text/plain": [
       "Output(layout=Layout(border='solid 1px black'))"
      ]
     },
     "metadata": {},
     "output_type": "display_data"
    }
   ],
   "source": [
    "import idm\n",
    "import importlib\n",
    "import dataframe\n",
    "importlib.reload(idm)\n",
    "importlib.reload(dataframe)\n",
    "\n",
    "idm.load()"
   ]
  },
  {
   "cell_type": "code",
   "execution_count": 199,
   "metadata": {},
   "outputs": [],
   "source": [
    "yy=df[df[\"Value\"]<=df.quantile(0.95)[\"Value\"]]"
   ]
  },
  {
   "cell_type": "code",
   "execution_count": 200,
   "metadata": {},
   "outputs": [
    {
     "data": {
      "text/plain": [
       "(array([293317.,  12657.,   6948.,   3953.,   2893.,   3009.,   2344.,\n",
       "          1650.,   1405.,   1220.]),\n",
       " array([     0. ,  10133.4,  20266.8,  30400.2,  40533.6,  50667. ,\n",
       "         60800.4,  70933.8,  81067.2,  91200.6, 101334. ]),\n",
       " <BarContainer object of 10 artists>)"
      ]
     },
     "execution_count": 200,
     "metadata": {},
     "output_type": "execute_result"
    },
    {
     "data": {
      "image/png": "[encoded data removed]",
      "text/plain": [
       "<Figure size 432x288 with 1 Axes>"
      ]
     },
     "metadata": {},
     "output_type": "display_data"
    }
   ],
   "source": [
    "plt.hist(yy[\"Value\"])"
   ]
  },
  {
   "cell_type": "code",
   "execution_count": 190,
   "metadata": {},
   "outputs": [
    {
     "data": {
      "text/plain": [
       "<AxesSubplot:xlabel='Value', ylabel='Count'>"
      ]
     },
     "execution_count": 190,
     "metadata": {},
     "output_type": "execute_result"
    },
    {
     "data": {
      "image/png": "[encoded data removed]",
      "text/plain": [
       "<Figure size 432x288 with 1 Axes>"
      ]
     },
     "metadata": {},
     "output_type": "display_data"
    }
   ],
   "source": [
    "sns.histplot(df[\"Value\"])"
   ]
  },
  {
   "cell_type": "code",
   "execution_count": 155,
   "metadata": {},
   "outputs": [
    {
     "data": {
      "text/plain": [
       "<AxesSubplot:xlabel='Date', ylabel='cnt'>"
      ]
     },
     "execution_count": 155,
     "metadata": {},
     "output_type": "execute_result"
    },
    {
     "data": {
      "image/png": "[encoded data removed]",
      "text/plain": [
       "<Figure size 1440x720 with 1 Axes>"
      ]
     },
     "metadata": {},
     "output_type": "display_data"
    }
   ],
   "source": [
    "#df.groupby(df[\"Date\"].dt.month).count()\n",
    "import seaborn as sns\n",
    "plt.figure(figsize=(20, 10))\n",
    "per = df.Date.dt.to_period(\"M\")\n",
    "qq = df.groupby(df[\"Date\"].dt.to_period(\"Y\")).count()[\"Date\"]\n",
    "ww=pd.DataFrame(qq).rename(columns={\"Date\": \"cnt\"}).reset_index()\n",
    "ww[\"metric\"] = \"cnt\"\n",
    "fig = sns.barplot(data=ww, x=\"Date\", y=\"cnt\",  hue=\"metric\")\n",
    "plt.legend()\n",
    "fig\n",
    "#ww.plot(kind=\"bar\", label=\"count\")"
   ]
  },
  {
   "cell_type": "code",
   "execution_count": null,
   "metadata": {},
   "outputs": [],
   "source": []
  }
 ],
 "metadata": {
  "kernelspec": {
   "display_name": "Python 3",
   "language": "python",
   "name": "python3"
  },
  "language_info": {
   "codemirror_mode": {
    "name": "ipython",
    "version": 3
   },
   "file_extension": ".py",
   "mimetype": "text/x-python",
   "name": "python",
   "nbconvert_exporter": "python",
   "pygments_lexer": "ipython3",
   "version": "3.6.8"
  }
 },
 "nbformat": 4,
 "nbformat_minor": 4
}
